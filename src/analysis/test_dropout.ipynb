{
 "cells": [
  {
   "cell_type": "code",
   "execution_count": 7,
   "metadata": {},
   "outputs": [],
   "source": [
    "import argparse\n",
    "import os\n",
    "import re\n",
    "import sys\n",
    "import warnings\n",
    "from itertools import product\n",
    "from pathlib import Path\n",
    "from typing import Any\n",
    "\n",
    "import joblib\n",
    "import numpy as np  # type: ignore\n",
    "import pandas as pd\n",
    "import xarray as xr  # type: ignore\n",
    "from rich.progress import track\n",
    "from keras import Model\n",
    "\n",
    "from sklearn.ensemble import RandomForestClassifier\n",
    "from sklearn.neural_network import MLPClassifier"
   ]
  },
  {
   "cell_type": "code",
   "execution_count": 2,
   "metadata": {},
   "outputs": [],
   "source": [
    "os.environ[\"TF_CPP_MIN_LOG_LEVEL\"] = \"5\"  # hide stuff\n",
    "os.environ[\"TF_FORCE_GPU_ALLOW_GROWTH\"] = \"true\"  # should fix most memory issues"
   ]
  },
  {
   "cell_type": "code",
   "execution_count": 3,
   "metadata": {},
   "outputs": [],
   "source": [
    "import keras\n",
    "import tensorflow as tf\n",
    "\n",
    "warnings.simplefilter(\"ignore\")"
   ]
  },
  {
   "cell_type": "code",
   "execution_count": 4,
   "metadata": {},
   "outputs": [],
   "source": [
    "to_drop = \"reflectivity\"\n",
    "\n",
    "CNN_FEATURES = [\n",
    "    \"cloud_flag\",\n",
    "    \"temp\",\n",
    "    \"mpl_backscatter\",\n",
    "    \"mpl_linear_depol_ratio\",\n",
    "    \"reflectivity\",\n",
    "    \"radar_linear_depolarization_ratio\",\n",
    "    \"spectral_width\",\n",
    "    \"mean_doppler_velocity\",\n",
    "    \"mwrret1liljclou_be_lwp\",\n",
    "]"
   ]
  },
  {
   "cell_type": "code",
   "execution_count": 8,
   "metadata": {},
   "outputs": [],
   "source": [
    "def add_argmax(model: Model) -> Model:\n",
    "    \"\"\"Adds an argmax layer to the model to ensure outputs are 0-7 instead of an array\n",
    "    with length 7. This makes it easier to compare with the y_test labels.\"\"\"\n",
    "    argmax_layer = keras.layers.Lambda(lambda x: tf.argmax(x, axis=-1), name='argmax_layer')\n",
    "    return Model(inputs=model.input, outputs=argmax_layer(model.output))\n",
    "\n",
    "cnn: Model = add_argmax(keras.models.load_model(\"../processing/models/cnn.20240429.213223.h5\"))  # type: ignore\n"
   ]
  },
  {
   "cell_type": "code",
   "execution_count": 22,
   "metadata": {},
   "outputs": [
    {
     "name": "stdout",
     "output_type": "stream",
     "text": [
      "X_test.shape = (6096, 128, 384, 9)\n",
      "y_test.shape = (6096, 128, 384)\n"
     ]
    }
   ],
   "source": [
    "X_test = np.load(\"../preprocessing/data/cnn_inputs/X_test.npy\")\n",
    "y_test = np.squeeze(np.load(\"../preprocessing/data/cnn_inputs/y_test.npy\"))  # (S, 128, 384, 1) --> (S, 128, 384)\n",
    "y_flat = y_test.ravel()  # flatten to 1D array (S x 128 x 2384)\n",
    "print(f\"{X_test.shape = }\")\n",
    "print(f\"{y_test.shape = }\")"
   ]
  },
  {
   "cell_type": "code",
   "execution_count": 27,
   "metadata": {},
   "outputs": [
    {
     "data": {
      "text/plain": [
       "(500, 128, 384, 9)"
      ]
     },
     "execution_count": 27,
     "metadata": {},
     "output_type": "execute_result"
    }
   ],
   "source": [
    "S = 500\n",
    "X, y = X_test[:S], y_test[:S].ravel()\n",
    "X.shape"
   ]
  },
  {
   "cell_type": "code",
   "execution_count": 28,
   "metadata": {},
   "outputs": [
    {
     "name": "stdout",
     "output_type": "stream",
     "text": [
      "16/16 [==============================] - 31s 2s/step\n"
     ]
    }
   ],
   "source": [
    "pred = cnn.predict(X).ravel()"
   ]
  },
  {
   "cell_type": "code",
   "execution_count": 29,
   "metadata": {},
   "outputs": [
    {
     "data": {
      "text/plain": [
       "0.9140456029715127"
      ]
     },
     "execution_count": 29,
     "metadata": {},
     "output_type": "execute_result"
    }
   ],
   "source": [
    "def acc(y_pred, y_true) -> float:\n",
    "    cloudy = np.where(~np.isin(y_true, [0, 8]))\n",
    "    return (y_pred[cloudy] == y_true[cloudy]).mean()\n",
    "\n",
    "acc(pred, y)"
   ]
  },
  {
   "cell_type": "code",
   "execution_count": 30,
   "metadata": {},
   "outputs": [
    {
     "data": {
      "text/plain": [
       "0.8581331014433918"
      ]
     },
     "execution_count": 30,
     "metadata": {},
     "output_type": "execute_result"
    }
   ],
   "source": [
    "X_missing = np.copy(X)\n",
    "X_missing[:, :, :, CNN_FEATURES.index(\"reflectivity\")] = 0\n",
    "\n",
    "pred_missing = cnn.predict(X_missing, verbose=0).ravel()\n",
    "acc(pred_missing, y)\n"
   ]
  },
  {
   "cell_type": "code",
   "execution_count": 31,
   "metadata": {},
   "outputs": [
    {
     "data": {
      "text/plain": [
       "0.8570286256445979"
      ]
     },
     "execution_count": 31,
     "metadata": {},
     "output_type": "execute_result"
    }
   ],
   "source": [
    "pred_missing2 = cnn.predict(X_missing / (1-0.125), verbose=0).ravel()\n",
    "acc(pred_missing2, y)"
   ]
  },
  {
   "cell_type": "code",
   "execution_count": null,
   "metadata": {},
   "outputs": [],
   "source": []
  }
 ],
 "metadata": {
  "kernelspec": {
   "display_name": "cldphase",
   "language": "python",
   "name": "python3"
  },
  "language_info": {
   "codemirror_mode": {
    "name": "ipython",
    "version": 3
   },
   "file_extension": ".py",
   "mimetype": "text/x-python",
   "name": "python",
   "nbconvert_exporter": "python",
   "pygments_lexer": "ipython3",
   "version": "3.11.10"
  }
 },
 "nbformat": 4,
 "nbformat_minor": 2
}
